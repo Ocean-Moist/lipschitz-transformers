{
 "cells": [
  {
   "cell_type": "markdown",
   "metadata": {},
   "source": [
    "# GPT from scratch!"
   ]
  },
  {
   "cell_type": "markdown",
   "metadata": {},
   "source": [
    "Let's train a transformer with Modula."
   ]
  },
  {
   "cell_type": "code",
   "execution_count": 1,
   "metadata": {
    "vscode": {
     "languageId": "plaintext"
    }
   },
   "outputs": [],
   "source": [
    "import jax\n",
    "import jax.numpy as jnp\n",
    "import optax"
   ]
  },
  {
   "cell_type": "markdown",
   "metadata": {},
   "source": [
    "First, let's set up the model parameters and the training parameters."
   ]
  },
  {
   "cell_type": "code",
   "execution_count": 2,
   "metadata": {},
   "outputs": [],
   "source": [
    "# Karpathy's smallest GPT config\n",
    "\n",
    "vocab_size = 65\n",
    "context = 64\n",
    "num_heads = 4\n",
    "d_embed = 128\n",
    "d_query = 32\n",
    "d_value = 32\n",
    "num_blocks = 4\n",
    "softmax_scale = 1\n",
    "\n",
    "# training hyperparameters\n",
    "\n",
    "lr = 0.5\n",
    "batch_size = 64\n",
    "steps = 1001\n",
    "log_interval = 100"
   ]
  },
  {
   "cell_type": "markdown",
   "metadata": {},
   "source": [
    "Let's download the data."
   ]
  },
  {
   "cell_type": "code",
   "execution_count": 3,
   "metadata": {},
   "outputs": [],
   "source": [
    "from data.shakespeare import load_shakespeare\n",
    "\n",
    "data = load_shakespeare(context, batch_size)\n",
    "\n",
    "train_loader = data[\"train_loader\"]\n",
    "val_loader = data[\"val_loader\"]\n",
    "encode = data[\"encode\"]\n",
    "decode = data[\"decode\"]"
   ]
  },
  {
   "cell_type": "markdown",
   "metadata": {},
   "source": [
    "Let's see what the data looks like."
   ]
  },
  {
   "cell_type": "code",
   "execution_count": 4,
   "metadata": {},
   "outputs": [
    {
     "name": "stdout",
     "output_type": "stream",
     "text": [
      "Input shape: (64, 64)\n",
      "Target shape: (64, 64)\n",
      "First input sequence: [41 53 50 42  1 40 50 53 53 42  1 52 53  1 57 54 39 56 49  1 53 44  1 46\n",
      " 53 52 53 59 56  1 40 47 42 43 57  8  0  0 26 27 30 32 20 33 25 14 17 30\n",
      " 24 13 26 16 10  0 14 43  1 58 46 53 59  1 39  1]\n",
      "First target sequence: [53 50 42  1 40 50 53 53 42  1 52 53  1 57 54 39 56 49  1 53 44  1 46 53\n",
      " 52 53 59 56  1 40 47 42 43 57  8  0  0 26 27 30 32 20 33 25 14 17 30 24\n",
      " 13 26 16 10  0 14 43  1 58 46 53 59  1 39  1 54]\n",
      "Decoded input: cold blood no spark of honour bides.\n",
      "\n",
      "NORTHUMBERLAND:\n",
      "Be thou a \n",
      "Decoded target: old blood no spark of honour bides.\n",
      "\n",
      "NORTHUMBERLAND:\n",
      "Be thou a p\n"
     ]
    }
   ],
   "source": [
    "for inputs, targets in train_loader:\n",
    "    print(\"Input shape:\", inputs.shape)\n",
    "    print(\"Target shape:\", targets.shape)\n",
    "    print(\"First input sequence:\", inputs[0])\n",
    "    print(\"First target sequence:\", targets[0])\n",
    "    print(\"Decoded input:\", decode(inputs[0]))\n",
    "    print(\"Decoded target:\", decode(targets[0]))\n",
    "    break"
   ]
  },
  {
   "cell_type": "markdown",
   "metadata": {},
   "source": [
    "We're ready to define our transformer!"
   ]
  },
  {
   "cell_type": "code",
   "execution_count": 5,
   "metadata": {},
   "outputs": [
    {
     "name": "stdout",
     "output_type": "stream",
     "text": [
      "CompositeModule\n",
      "...consists of 26 atoms and 77 bonds\n",
      "...non-smooth\n",
      "...input sensitivity is 1.0\n",
      "...contributes proportion 7.0 to feature learning of any supermodule\n"
     ]
    }
   ],
   "source": [
    "from modula.compound import GPT\n",
    "\n",
    "model = GPT(\n",
    "    vocab_size=vocab_size,\n",
    "    num_heads=num_heads,\n",
    "    d_embed=d_embed,\n",
    "    d_query=d_query,\n",
    "    d_value=d_value,\n",
    "    num_blocks=num_blocks,\n",
    "    softmax_scale=softmax_scale\n",
    ")\n",
    "\n",
    "model.jit()\n",
    "\n",
    "print(model)"
   ]
  },
  {
   "cell_type": "markdown",
   "metadata": {},
   "source": [
    "We'll use cross entropy loss."
   ]
  },
  {
   "cell_type": "code",
   "execution_count": 6,
   "metadata": {},
   "outputs": [],
   "source": [
    "def cross_entropy_loss(w, inputs, targets):\n",
    "    logits = model(inputs, w)\n",
    "    loss = optax.softmax_cross_entropy_with_integer_labels(logits, targets)\n",
    "    return loss.mean()\n",
    "\n",
    "loss_and_grad = jax.jit(jax.value_and_grad(cross_entropy_loss))"
   ]
  },
  {
   "cell_type": "markdown",
   "metadata": {},
   "source": [
    "And we're ready to train!"
   ]
  },
  {
   "cell_type": "code",
   "execution_count": 9,
   "metadata": {},
   "outputs": [
    {
     "ename": "TypeError",
     "evalue": "dot_general requires contracting dimensions to have the same shape, got (128,) and (64,).",
     "output_type": "error",
     "traceback": [
      "\u001b[0;31m---------------------------------------------------------------------------\u001b[0m",
      "\u001b[0;31mTypeError\u001b[0m                                 Traceback (most recent call last)",
      "Cell \u001b[0;32mIn[9], line 6\u001b[0m\n\u001b[1;32m      4\u001b[0m step \u001b[38;5;241m=\u001b[39m \u001b[38;5;241m0\u001b[39m\n\u001b[1;32m      5\u001b[0m \u001b[38;5;28;01mfor\u001b[39;00m inputs, targets \u001b[38;5;129;01min\u001b[39;00m train_loader:\n\u001b[0;32m----> 6\u001b[0m     loss, grad_w \u001b[38;5;241m=\u001b[39m \u001b[43mloss_and_grad\u001b[49m\u001b[43m(\u001b[49m\u001b[43mw\u001b[49m\u001b[43m,\u001b[49m\u001b[43m \u001b[49m\u001b[43minputs\u001b[49m\u001b[43m,\u001b[49m\u001b[43m \u001b[49m\u001b[43mtargets\u001b[49m\u001b[43m)\u001b[49m\n\u001b[1;32m      7\u001b[0m     d_w \u001b[38;5;241m=\u001b[39m mlp\u001b[38;5;241m.\u001b[39mdualize(grad_w)\n\u001b[1;32m      8\u001b[0m     w \u001b[38;5;241m=\u001b[39m [weight \u001b[38;5;241m-\u001b[39m lr \u001b[38;5;241m*\u001b[39m d_weight \u001b[38;5;28;01mfor\u001b[39;00m weight, d_weight \u001b[38;5;129;01min\u001b[39;00m \u001b[38;5;28mzip\u001b[39m(w, d_w)]\n",
      "    \u001b[0;31m[... skipping hidden 28 frame]\u001b[0m\n",
      "Cell \u001b[0;32mIn[6], line 2\u001b[0m, in \u001b[0;36mcross_entropy_loss\u001b[0;34m(w, inputs, targets)\u001b[0m\n\u001b[1;32m      1\u001b[0m \u001b[38;5;28;01mdef\u001b[39;00m\u001b[38;5;250m \u001b[39m\u001b[38;5;21mcross_entropy_loss\u001b[39m(w, inputs, targets):\n\u001b[0;32m----> 2\u001b[0m     logits \u001b[38;5;241m=\u001b[39m \u001b[43mmodel\u001b[49m\u001b[43m(\u001b[49m\u001b[43minputs\u001b[49m\u001b[43m,\u001b[49m\u001b[43m \u001b[49m\u001b[43mw\u001b[49m\u001b[43m)\u001b[49m\n\u001b[1;32m      3\u001b[0m     loss \u001b[38;5;241m=\u001b[39m optax\u001b[38;5;241m.\u001b[39msoftmax_cross_entropy_with_integer_labels(logits, targets)\n\u001b[1;32m      4\u001b[0m     \u001b[38;5;28;01mreturn\u001b[39;00m loss\u001b[38;5;241m.\u001b[39mmean()\n",
      "File \u001b[0;32m~/Downloads/MEng/spring2025/rnn/modula/modula/abstract.py:71\u001b[0m, in \u001b[0;36mModule.__call__\u001b[0;34m(self, x, w)\u001b[0m\n\u001b[1;32m     70\u001b[0m \u001b[38;5;28;01mdef\u001b[39;00m\u001b[38;5;250m \u001b[39m\u001b[38;5;21m__call__\u001b[39m(\u001b[38;5;28mself\u001b[39m, x, w):\n\u001b[0;32m---> 71\u001b[0m     \u001b[38;5;28;01mreturn\u001b[39;00m \u001b[38;5;28;43mself\u001b[39;49m\u001b[38;5;241;43m.\u001b[39;49m\u001b[43mforward\u001b[49m\u001b[43m(\u001b[49m\u001b[43mx\u001b[49m\u001b[43m,\u001b[49m\u001b[43m \u001b[49m\u001b[43mw\u001b[49m\u001b[43m)\u001b[49m\n",
      "    \u001b[0;31m[... skipping hidden 13 frame]\u001b[0m\n",
      "File \u001b[0;32m~/Downloads/MEng/spring2025/rnn/modula/modula/abstract.py:111\u001b[0m, in \u001b[0;36mCompositeModule.forward\u001b[0;34m(self, x, w)\u001b[0m\n\u001b[1;32m    109\u001b[0m w1 \u001b[38;5;241m=\u001b[39m w[m0\u001b[38;5;241m.\u001b[39matoms:]\n\u001b[1;32m    110\u001b[0m x0 \u001b[38;5;241m=\u001b[39m m0\u001b[38;5;241m.\u001b[39mforward(x, w0)\n\u001b[0;32m--> 111\u001b[0m x1 \u001b[38;5;241m=\u001b[39m \u001b[43mm1\u001b[49m\u001b[38;5;241;43m.\u001b[39;49m\u001b[43mforward\u001b[49m\u001b[43m(\u001b[49m\u001b[43mx0\u001b[49m\u001b[43m,\u001b[49m\u001b[43m \u001b[49m\u001b[43mw1\u001b[49m\u001b[43m)\u001b[49m\n\u001b[1;32m    112\u001b[0m \u001b[38;5;28;01mreturn\u001b[39;00m x1\n",
      "File \u001b[0;32m~/Downloads/MEng/spring2025/rnn/modula/modula/abstract.py:110\u001b[0m, in \u001b[0;36mCompositeModule.forward\u001b[0;34m(self, x, w)\u001b[0m\n\u001b[1;32m    108\u001b[0m w0 \u001b[38;5;241m=\u001b[39m w[:m0\u001b[38;5;241m.\u001b[39matoms]\n\u001b[1;32m    109\u001b[0m w1 \u001b[38;5;241m=\u001b[39m w[m0\u001b[38;5;241m.\u001b[39matoms:]\n\u001b[0;32m--> 110\u001b[0m x0 \u001b[38;5;241m=\u001b[39m \u001b[43mm0\u001b[49m\u001b[38;5;241;43m.\u001b[39;49m\u001b[43mforward\u001b[49m\u001b[43m(\u001b[49m\u001b[43mx\u001b[49m\u001b[43m,\u001b[49m\u001b[43m \u001b[49m\u001b[43mw0\u001b[49m\u001b[43m)\u001b[49m\n\u001b[1;32m    111\u001b[0m x1 \u001b[38;5;241m=\u001b[39m m1\u001b[38;5;241m.\u001b[39mforward(x0, w1)\n\u001b[1;32m    112\u001b[0m \u001b[38;5;28;01mreturn\u001b[39;00m x1\n",
      "File \u001b[0;32m~/Downloads/MEng/spring2025/rnn/modula/modula/abstract.py:110\u001b[0m, in \u001b[0;36mCompositeModule.forward\u001b[0;34m(self, x, w)\u001b[0m\n\u001b[1;32m    108\u001b[0m w0 \u001b[38;5;241m=\u001b[39m w[:m0\u001b[38;5;241m.\u001b[39matoms]\n\u001b[1;32m    109\u001b[0m w1 \u001b[38;5;241m=\u001b[39m w[m0\u001b[38;5;241m.\u001b[39matoms:]\n\u001b[0;32m--> 110\u001b[0m x0 \u001b[38;5;241m=\u001b[39m \u001b[43mm0\u001b[49m\u001b[38;5;241;43m.\u001b[39;49m\u001b[43mforward\u001b[49m\u001b[43m(\u001b[49m\u001b[43mx\u001b[49m\u001b[43m,\u001b[49m\u001b[43m \u001b[49m\u001b[43mw0\u001b[49m\u001b[43m)\u001b[49m\n\u001b[1;32m    111\u001b[0m x1 \u001b[38;5;241m=\u001b[39m m1\u001b[38;5;241m.\u001b[39mforward(x0, w1)\n\u001b[1;32m    112\u001b[0m \u001b[38;5;28;01mreturn\u001b[39;00m x1\n",
      "    \u001b[0;31m[... skipping similar frames: CompositeModule.forward at line 110 (1 times)]\u001b[0m\n",
      "File \u001b[0;32m~/Downloads/MEng/spring2025/rnn/modula/modula/abstract.py:110\u001b[0m, in \u001b[0;36mCompositeModule.forward\u001b[0;34m(self, x, w)\u001b[0m\n\u001b[1;32m    108\u001b[0m w0 \u001b[38;5;241m=\u001b[39m w[:m0\u001b[38;5;241m.\u001b[39matoms]\n\u001b[1;32m    109\u001b[0m w1 \u001b[38;5;241m=\u001b[39m w[m0\u001b[38;5;241m.\u001b[39matoms:]\n\u001b[0;32m--> 110\u001b[0m x0 \u001b[38;5;241m=\u001b[39m \u001b[43mm0\u001b[49m\u001b[38;5;241;43m.\u001b[39;49m\u001b[43mforward\u001b[49m\u001b[43m(\u001b[49m\u001b[43mx\u001b[49m\u001b[43m,\u001b[49m\u001b[43m \u001b[49m\u001b[43mw0\u001b[49m\u001b[43m)\u001b[49m\n\u001b[1;32m    111\u001b[0m x1 \u001b[38;5;241m=\u001b[39m m1\u001b[38;5;241m.\u001b[39mforward(x0, w1)\n\u001b[1;32m    112\u001b[0m \u001b[38;5;28;01mreturn\u001b[39;00m x1\n",
      "File \u001b[0;32m~/Downloads/MEng/spring2025/rnn/modula/modula/abstract.py:111\u001b[0m, in \u001b[0;36mCompositeModule.forward\u001b[0;34m(self, x, w)\u001b[0m\n\u001b[1;32m    109\u001b[0m w1 \u001b[38;5;241m=\u001b[39m w[m0\u001b[38;5;241m.\u001b[39matoms:]\n\u001b[1;32m    110\u001b[0m x0 \u001b[38;5;241m=\u001b[39m m0\u001b[38;5;241m.\u001b[39mforward(x, w0)\n\u001b[0;32m--> 111\u001b[0m x1 \u001b[38;5;241m=\u001b[39m \u001b[43mm1\u001b[49m\u001b[38;5;241;43m.\u001b[39;49m\u001b[43mforward\u001b[49m\u001b[43m(\u001b[49m\u001b[43mx0\u001b[49m\u001b[43m,\u001b[49m\u001b[43m \u001b[49m\u001b[43mw1\u001b[49m\u001b[43m)\u001b[49m\n\u001b[1;32m    112\u001b[0m \u001b[38;5;28;01mreturn\u001b[39;00m x1\n",
      "File \u001b[0;32m~/Downloads/MEng/spring2025/rnn/modula/modula/abstract.py:110\u001b[0m, in \u001b[0;36mCompositeModule.forward\u001b[0;34m(self, x, w)\u001b[0m\n\u001b[1;32m    108\u001b[0m w0 \u001b[38;5;241m=\u001b[39m w[:m0\u001b[38;5;241m.\u001b[39matoms]\n\u001b[1;32m    109\u001b[0m w1 \u001b[38;5;241m=\u001b[39m w[m0\u001b[38;5;241m.\u001b[39matoms:]\n\u001b[0;32m--> 110\u001b[0m x0 \u001b[38;5;241m=\u001b[39m \u001b[43mm0\u001b[49m\u001b[38;5;241;43m.\u001b[39;49m\u001b[43mforward\u001b[49m\u001b[43m(\u001b[49m\u001b[43mx\u001b[49m\u001b[43m,\u001b[49m\u001b[43m \u001b[49m\u001b[43mw0\u001b[49m\u001b[43m)\u001b[49m\n\u001b[1;32m    111\u001b[0m x1 \u001b[38;5;241m=\u001b[39m m1\u001b[38;5;241m.\u001b[39mforward(x0, w1)\n\u001b[1;32m    112\u001b[0m \u001b[38;5;28;01mreturn\u001b[39;00m x1\n",
      "File \u001b[0;32m~/Downloads/MEng/spring2025/rnn/modula/modula/abstract.py:110\u001b[0m, in \u001b[0;36mCompositeModule.forward\u001b[0;34m(self, x, w)\u001b[0m\n\u001b[1;32m    108\u001b[0m w0 \u001b[38;5;241m=\u001b[39m w[:m0\u001b[38;5;241m.\u001b[39matoms]\n\u001b[1;32m    109\u001b[0m w1 \u001b[38;5;241m=\u001b[39m w[m0\u001b[38;5;241m.\u001b[39matoms:]\n\u001b[0;32m--> 110\u001b[0m x0 \u001b[38;5;241m=\u001b[39m \u001b[43mm0\u001b[49m\u001b[38;5;241;43m.\u001b[39;49m\u001b[43mforward\u001b[49m\u001b[43m(\u001b[49m\u001b[43mx\u001b[49m\u001b[43m,\u001b[49m\u001b[43m \u001b[49m\u001b[43mw0\u001b[49m\u001b[43m)\u001b[49m\n\u001b[1;32m    111\u001b[0m x1 \u001b[38;5;241m=\u001b[39m m1\u001b[38;5;241m.\u001b[39mforward(x0, w1)\n\u001b[1;32m    112\u001b[0m \u001b[38;5;28;01mreturn\u001b[39;00m x1\n",
      "File \u001b[0;32m~/Downloads/MEng/spring2025/rnn/modula/modula/abstract.py:149\u001b[0m, in \u001b[0;36mTupleModule.forward\u001b[0;34m(self, x, w)\u001b[0m\n\u001b[1;32m    147\u001b[0m output_list \u001b[38;5;241m=\u001b[39m []\n\u001b[1;32m    148\u001b[0m \u001b[38;5;28;01mfor\u001b[39;00m m \u001b[38;5;129;01min\u001b[39;00m \u001b[38;5;28mself\u001b[39m\u001b[38;5;241m.\u001b[39mchildren:\n\u001b[0;32m--> 149\u001b[0m     output \u001b[38;5;241m=\u001b[39m \u001b[43mm\u001b[49m\u001b[38;5;241;43m.\u001b[39;49m\u001b[43mforward\u001b[49m\u001b[43m(\u001b[49m\u001b[43mx\u001b[49m\u001b[43m,\u001b[49m\u001b[43m \u001b[49m\u001b[43mw\u001b[49m\u001b[43m[\u001b[49m\u001b[43m:\u001b[49m\u001b[43mm\u001b[49m\u001b[38;5;241;43m.\u001b[39;49m\u001b[43matoms\u001b[49m\u001b[43m]\u001b[49m\u001b[43m)\u001b[49m\n\u001b[1;32m    150\u001b[0m     output_list\u001b[38;5;241m.\u001b[39mappend(output)\n\u001b[1;32m    151\u001b[0m     w \u001b[38;5;241m=\u001b[39m w[m\u001b[38;5;241m.\u001b[39matoms:]\n",
      "File \u001b[0;32m~/Downloads/MEng/spring2025/rnn/modula/modula/abstract.py:110\u001b[0m, in \u001b[0;36mCompositeModule.forward\u001b[0;34m(self, x, w)\u001b[0m\n\u001b[1;32m    108\u001b[0m w0 \u001b[38;5;241m=\u001b[39m w[:m0\u001b[38;5;241m.\u001b[39matoms]\n\u001b[1;32m    109\u001b[0m w1 \u001b[38;5;241m=\u001b[39m w[m0\u001b[38;5;241m.\u001b[39matoms:]\n\u001b[0;32m--> 110\u001b[0m x0 \u001b[38;5;241m=\u001b[39m \u001b[43mm0\u001b[49m\u001b[38;5;241;43m.\u001b[39;49m\u001b[43mforward\u001b[49m\u001b[43m(\u001b[49m\u001b[43mx\u001b[49m\u001b[43m,\u001b[49m\u001b[43m \u001b[49m\u001b[43mw0\u001b[49m\u001b[43m)\u001b[49m\n\u001b[1;32m    111\u001b[0m x1 \u001b[38;5;241m=\u001b[39m m1\u001b[38;5;241m.\u001b[39mforward(x0, w1)\n\u001b[1;32m    112\u001b[0m \u001b[38;5;28;01mreturn\u001b[39;00m x1\n",
      "File \u001b[0;32m~/Downloads/MEng/spring2025/rnn/modula/modula/abstract.py:110\u001b[0m, in \u001b[0;36mCompositeModule.forward\u001b[0;34m(self, x, w)\u001b[0m\n\u001b[1;32m    108\u001b[0m w0 \u001b[38;5;241m=\u001b[39m w[:m0\u001b[38;5;241m.\u001b[39matoms]\n\u001b[1;32m    109\u001b[0m w1 \u001b[38;5;241m=\u001b[39m w[m0\u001b[38;5;241m.\u001b[39matoms:]\n\u001b[0;32m--> 110\u001b[0m x0 \u001b[38;5;241m=\u001b[39m \u001b[43mm0\u001b[49m\u001b[38;5;241;43m.\u001b[39;49m\u001b[43mforward\u001b[49m\u001b[43m(\u001b[49m\u001b[43mx\u001b[49m\u001b[43m,\u001b[49m\u001b[43m \u001b[49m\u001b[43mw0\u001b[49m\u001b[43m)\u001b[49m\n\u001b[1;32m    111\u001b[0m x1 \u001b[38;5;241m=\u001b[39m m1\u001b[38;5;241m.\u001b[39mforward(x0, w1)\n\u001b[1;32m    112\u001b[0m \u001b[38;5;28;01mreturn\u001b[39;00m x1\n",
      "File \u001b[0;32m~/Downloads/MEng/spring2025/rnn/modula/modula/abstract.py:149\u001b[0m, in \u001b[0;36mTupleModule.forward\u001b[0;34m(self, x, w)\u001b[0m\n\u001b[1;32m    147\u001b[0m output_list \u001b[38;5;241m=\u001b[39m []\n\u001b[1;32m    148\u001b[0m \u001b[38;5;28;01mfor\u001b[39;00m m \u001b[38;5;129;01min\u001b[39;00m \u001b[38;5;28mself\u001b[39m\u001b[38;5;241m.\u001b[39mchildren:\n\u001b[0;32m--> 149\u001b[0m     output \u001b[38;5;241m=\u001b[39m \u001b[43mm\u001b[49m\u001b[38;5;241;43m.\u001b[39;49m\u001b[43mforward\u001b[49m\u001b[43m(\u001b[49m\u001b[43mx\u001b[49m\u001b[43m,\u001b[49m\u001b[43m \u001b[49m\u001b[43mw\u001b[49m\u001b[43m[\u001b[49m\u001b[43m:\u001b[49m\u001b[43mm\u001b[49m\u001b[38;5;241;43m.\u001b[39;49m\u001b[43matoms\u001b[49m\u001b[43m]\u001b[49m\u001b[43m)\u001b[49m\n\u001b[1;32m    150\u001b[0m     output_list\u001b[38;5;241m.\u001b[39mappend(output)\n\u001b[1;32m    151\u001b[0m     w \u001b[38;5;241m=\u001b[39m w[m\u001b[38;5;241m.\u001b[39matoms:]\n",
      "File \u001b[0;32m~/Downloads/MEng/spring2025/rnn/modula/modula/abstract.py:110\u001b[0m, in \u001b[0;36mCompositeModule.forward\u001b[0;34m(self, x, w)\u001b[0m\n\u001b[1;32m    108\u001b[0m w0 \u001b[38;5;241m=\u001b[39m w[:m0\u001b[38;5;241m.\u001b[39matoms]\n\u001b[1;32m    109\u001b[0m w1 \u001b[38;5;241m=\u001b[39m w[m0\u001b[38;5;241m.\u001b[39matoms:]\n\u001b[0;32m--> 110\u001b[0m x0 \u001b[38;5;241m=\u001b[39m \u001b[43mm0\u001b[49m\u001b[38;5;241;43m.\u001b[39;49m\u001b[43mforward\u001b[49m\u001b[43m(\u001b[49m\u001b[43mx\u001b[49m\u001b[43m,\u001b[49m\u001b[43m \u001b[49m\u001b[43mw0\u001b[49m\u001b[43m)\u001b[49m\n\u001b[1;32m    111\u001b[0m x1 \u001b[38;5;241m=\u001b[39m m1\u001b[38;5;241m.\u001b[39mforward(x0, w1)\n\u001b[1;32m    112\u001b[0m \u001b[38;5;28;01mreturn\u001b[39;00m x1\n",
      "File \u001b[0;32m~/Downloads/MEng/spring2025/rnn/modula/modula/atom.py:32\u001b[0m, in \u001b[0;36mLinear.forward\u001b[0;34m(self, x, w)\u001b[0m\n\u001b[1;32m     30\u001b[0m \u001b[38;5;28;01mdef\u001b[39;00m\u001b[38;5;250m \u001b[39m\u001b[38;5;21mforward\u001b[39m(\u001b[38;5;28mself\u001b[39m, x, w):\n\u001b[1;32m     31\u001b[0m     weights \u001b[38;5;241m=\u001b[39m w[\u001b[38;5;241m0\u001b[39m]\n\u001b[0;32m---> 32\u001b[0m     \u001b[38;5;28;01mreturn\u001b[39;00m \u001b[43mweights\u001b[49m\u001b[43m \u001b[49m\u001b[38;5;241;43m@\u001b[39;49m\u001b[43m \u001b[49m\u001b[43mx\u001b[49m\n",
      "File \u001b[0;32m~/Downloads/MEng/spring2025/rnn/.rnn/lib/python3.11/site-packages/jax/_src/numpy/array_methods.py:1061\u001b[0m, in \u001b[0;36m_forward_operator_to_aval.<locals>.op\u001b[0;34m(self, *args)\u001b[0m\n\u001b[1;32m   1060\u001b[0m \u001b[38;5;28;01mdef\u001b[39;00m\u001b[38;5;250m \u001b[39m\u001b[38;5;21mop\u001b[39m(\u001b[38;5;28mself\u001b[39m, \u001b[38;5;241m*\u001b[39margs):\n\u001b[0;32m-> 1061\u001b[0m   \u001b[38;5;28;01mreturn\u001b[39;00m \u001b[38;5;28;43mgetattr\u001b[39;49m\u001b[43m(\u001b[49m\u001b[38;5;28;43mself\u001b[39;49m\u001b[38;5;241;43m.\u001b[39;49m\u001b[43maval\u001b[49m\u001b[43m,\u001b[49m\u001b[43m \u001b[49m\u001b[38;5;124;43mf\u001b[39;49m\u001b[38;5;124;43m\"\u001b[39;49m\u001b[38;5;124;43m_\u001b[39;49m\u001b[38;5;132;43;01m{\u001b[39;49;00m\u001b[43mname\u001b[49m\u001b[38;5;132;43;01m}\u001b[39;49;00m\u001b[38;5;124;43m\"\u001b[39;49m\u001b[43m)\u001b[49m\u001b[43m(\u001b[49m\u001b[38;5;28;43mself\u001b[39;49m\u001b[43m,\u001b[49m\u001b[43m \u001b[49m\u001b[38;5;241;43m*\u001b[39;49m\u001b[43margs\u001b[49m\u001b[43m)\u001b[49m\n",
      "File \u001b[0;32m~/Downloads/MEng/spring2025/rnn/.rnn/lib/python3.11/site-packages/jax/_src/numpy/array_methods.py:578\u001b[0m, in \u001b[0;36m_defer_to_unrecognized_arg.<locals>.deferring_binary_op\u001b[0;34m(self, other)\u001b[0m\n\u001b[1;32m    576\u001b[0m args \u001b[38;5;241m=\u001b[39m (other, \u001b[38;5;28mself\u001b[39m) \u001b[38;5;28;01mif\u001b[39;00m swap \u001b[38;5;28;01melse\u001b[39;00m (\u001b[38;5;28mself\u001b[39m, other)\n\u001b[1;32m    577\u001b[0m \u001b[38;5;28;01mif\u001b[39;00m \u001b[38;5;28misinstance\u001b[39m(other, _accepted_binop_types):\n\u001b[0;32m--> 578\u001b[0m   \u001b[38;5;28;01mreturn\u001b[39;00m \u001b[43mbinary_op\u001b[49m\u001b[43m(\u001b[49m\u001b[38;5;241;43m*\u001b[39;49m\u001b[43margs\u001b[49m\u001b[43m)\u001b[49m\n\u001b[1;32m    579\u001b[0m \u001b[38;5;66;03m# Note: don't use isinstance here, because we don't want to raise for\u001b[39;00m\n\u001b[1;32m    580\u001b[0m \u001b[38;5;66;03m# subclasses, e.g. NamedTuple objects that may override operators.\u001b[39;00m\n\u001b[1;32m    581\u001b[0m \u001b[38;5;28;01mif\u001b[39;00m \u001b[38;5;28mtype\u001b[39m(other) \u001b[38;5;129;01min\u001b[39;00m _rejected_binop_types:\n",
      "    \u001b[0;31m[... skipping hidden 14 frame]\u001b[0m\n",
      "File \u001b[0;32m~/Downloads/MEng/spring2025/rnn/.rnn/lib/python3.11/site-packages/jax/_src/numpy/lax_numpy.py:9185\u001b[0m, in \u001b[0;36mmatmul\u001b[0;34m(a, b, precision, preferred_element_type)\u001b[0m\n\u001b[1;32m   9183\u001b[0m a \u001b[38;5;241m=\u001b[39m lax\u001b[38;5;241m.\u001b[39msqueeze(a, \u001b[38;5;28mtuple\u001b[39m(a_squeeze))\n\u001b[1;32m   9184\u001b[0m b \u001b[38;5;241m=\u001b[39m lax\u001b[38;5;241m.\u001b[39msqueeze(b, \u001b[38;5;28mtuple\u001b[39m(b_squeeze))\n\u001b[0;32m-> 9185\u001b[0m out \u001b[38;5;241m=\u001b[39m \u001b[43mlax\u001b[49m\u001b[38;5;241;43m.\u001b[39;49m\u001b[43mdot_general\u001b[49m\u001b[43m(\u001b[49m\n\u001b[1;32m   9186\u001b[0m \u001b[43m  \u001b[49m\u001b[43ma\u001b[49m\u001b[43m,\u001b[49m\u001b[43m \u001b[49m\u001b[43mb\u001b[49m\u001b[43m,\u001b[49m\u001b[43m \u001b[49m\u001b[43m(\u001b[49m\u001b[43m(\u001b[49m\u001b[43m(\u001b[49m\u001b[43mndim\u001b[49m\u001b[43m(\u001b[49m\u001b[43ma\u001b[49m\u001b[43m)\u001b[49m\u001b[43m \u001b[49m\u001b[38;5;241;43m-\u001b[39;49m\u001b[43m \u001b[49m\u001b[38;5;241;43m1\u001b[39;49m\u001b[43m,\u001b[49m\u001b[43m)\u001b[49m\u001b[43m,\u001b[49m\u001b[43m \u001b[49m\u001b[43m(\u001b[49m\u001b[43mndim\u001b[49m\u001b[43m(\u001b[49m\u001b[43mb\u001b[49m\u001b[43m)\u001b[49m\u001b[43m \u001b[49m\u001b[38;5;241;43m-\u001b[39;49m\u001b[43m \u001b[49m\u001b[38;5;241;43m1\u001b[39;49m\u001b[43m \u001b[49m\u001b[38;5;241;43m-\u001b[39;49m\u001b[43m \u001b[49m\u001b[43mb_is_mat\u001b[49m\u001b[43m,\u001b[49m\u001b[43m)\u001b[49m\u001b[43m)\u001b[49m\u001b[43m,\u001b[49m\u001b[43m \u001b[49m\u001b[43m(\u001b[49m\u001b[43ma_batch\u001b[49m\u001b[43m,\u001b[49m\u001b[43m \u001b[49m\u001b[43mb_batch\u001b[49m\u001b[43m)\u001b[49m\u001b[43m)\u001b[49m\u001b[43m,\u001b[49m\n\u001b[1;32m   9187\u001b[0m \u001b[43m  \u001b[49m\u001b[43mprecision\u001b[49m\u001b[38;5;241;43m=\u001b[39;49m\u001b[43mprecision\u001b[49m\u001b[43m,\u001b[49m\u001b[43m \u001b[49m\u001b[43mpreferred_element_type\u001b[49m\u001b[38;5;241;43m=\u001b[39;49m\u001b[43mpreferred_element_type\u001b[49m\u001b[43m)\u001b[49m\n\u001b[1;32m   9188\u001b[0m result \u001b[38;5;241m=\u001b[39m lax\u001b[38;5;241m.\u001b[39mtranspose(out, perm)\n\u001b[1;32m   9189\u001b[0m \u001b[38;5;28;01mreturn\u001b[39;00m lax_internal\u001b[38;5;241m.\u001b[39m_convert_element_type(result, preferred_element_type, output_weak_type)\n",
      "    \u001b[0;31m[... skipping hidden 7 frame]\u001b[0m\n",
      "File \u001b[0;32m~/Downloads/MEng/spring2025/rnn/.rnn/lib/python3.11/site-packages/jax/_src/lax/lax.py:3518\u001b[0m, in \u001b[0;36m_dot_general_shape_rule\u001b[0;34m(lhs, rhs, dimension_numbers, precision, preferred_element_type, out_sharding)\u001b[0m\n\u001b[1;32m   3515\u001b[0m \u001b[38;5;28;01mif\u001b[39;00m \u001b[38;5;129;01mnot\u001b[39;00m core\u001b[38;5;241m.\u001b[39mdefinitely_equal_shape(lhs_contracting_shape, rhs_contracting_shape):\n\u001b[1;32m   3516\u001b[0m   msg \u001b[38;5;241m=\u001b[39m (\u001b[38;5;124m\"\u001b[39m\u001b[38;5;124mdot_general requires contracting dimensions to have the same \u001b[39m\u001b[38;5;124m\"\u001b[39m\n\u001b[1;32m   3517\u001b[0m          \u001b[38;5;124m\"\u001b[39m\u001b[38;5;124mshape, got \u001b[39m\u001b[38;5;132;01m{}\u001b[39;00m\u001b[38;5;124m and \u001b[39m\u001b[38;5;132;01m{}\u001b[39;00m\u001b[38;5;124m.\u001b[39m\u001b[38;5;124m\"\u001b[39m)\n\u001b[0;32m-> 3518\u001b[0m   \u001b[38;5;28;01mraise\u001b[39;00m \u001b[38;5;167;01mTypeError\u001b[39;00m(msg\u001b[38;5;241m.\u001b[39mformat(lhs_contracting_shape, rhs_contracting_shape))\n\u001b[1;32m   3520\u001b[0m \u001b[38;5;28;01mreturn\u001b[39;00m _dot_general_shape_computation(lhs\u001b[38;5;241m.\u001b[39mshape, rhs\u001b[38;5;241m.\u001b[39mshape, dimension_numbers)\n",
      "\u001b[0;31mTypeError\u001b[0m: dot_general requires contracting dimensions to have the same shape, got (128,) and (64,)."
     ]
    }
   ],
   "source": [
    "key = jax.random.PRNGKey(0)\n",
    "w = model.initialize(key)\n",
    "\n",
    "step = 0\n",
    "for inputs, targets in train_loader:\n",
    "    loss, grad_w = loss_and_grad(w, inputs, targets)\n",
    "    d_w = mlp.dualize(grad_w)\n",
    "    w = [weight - lr * d_weight for weight, d_weight in zip(w, d_w)]\n",
    "\n",
    "    if step % log_interval == 0:\n",
    "        val_loss = []\n",
    "        for val_inputs, val_targets in val_loader:\n",
    "            loss, _ = loss_and_grad(w, val_inputs, val_targets)\n",
    "            val_loss.append(loss)\n",
    "        print(f\"Step {step}: val loss {mean(val_loss)}\")\n",
    "\n",
    "    step += 1"
   ]
  }
 ],
 "metadata": {
  "kernelspec": {
   "display_name": "Python 3 (ipykernel)",
   "language": "python",
   "name": "python3"
  },
  "language_info": {
   "codemirror_mode": {
    "name": "ipython",
    "version": 3
   },
   "file_extension": ".py",
   "mimetype": "text/x-python",
   "name": "python",
   "nbconvert_exporter": "python",
   "pygments_lexer": "ipython3",
   "version": "3.11.8"
  }
 },
 "nbformat": 4,
 "nbformat_minor": 4
}
