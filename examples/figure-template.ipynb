{
 "cells": [
  {
   "cell_type": "code",
   "execution_count": null,
   "metadata": {},
   "outputs": [],
   "source": [
    "import seaborn as sns\n",
    "import matplotlib.pyplot as plt\n",
    "import numpy as np"
   ]
  },
  {
   "cell_type": "code",
   "execution_count": null,
   "metadata": {},
   "outputs": [],
   "source": [
    "# Set overall style\n",
    "sns.set(style=\"white\", context=\"talk\")"
   ]
  },
  {
   "cell_type": "code",
   "execution_count": null,
   "metadata": {},
   "outputs": [],
   "source": [
    "# Define distinct colors for each technique\n",
    "tech_colors = {\n",
    "    \"Weight decay\":       \"#1f77b4\",  # muted blue\n",
    "    \"Japanese hammer\":    \"#ff7f0e\",  # orange\n",
    "    \"Stiefel reg.\":       \"#2ca02c\",  # green\n",
    "    \"Stiefel manifold\":   \"#d62728\",  # red\n",
    "    \"Hard cap\":           \"#9467bd\",  # purple\n",
    "    \"Soft cap\":           \"#8c564b\",  # brown\n",
    "    \"Baseline\":           \"#7f7f7f\",  # gray\n",
    "}"
   ]
  },
  {
   "cell_type": "code",
   "execution_count": null,
   "metadata": {},
   "outputs": [],
   "source": [
    "# Generate synthetic example data\n",
    "x = np.linspace(0, 1, 100)"
   ]
  },
  {
   "cell_type": "code",
   "execution_count": null,
   "metadata": {},
   "outputs": [],
   "source": [
    "# 1) Comparison Across All Techniques\n",
    "plt.figure(figsize=(8, 5))\n",
    "for tech, color in tech_colors.items():\n",
    "    y = np.sin(2 * np.pi * x * (1 + 0.1 * np.random.rand())) + np.random.normal(scale=0.1, size=x.shape)\n",
    "    plt.plot(x, y, label=tech, color=color, linewidth=2)\n",
    "plt.title(\"Technique Comparison\")\n",
    "plt.xlabel(\"Epoch\")\n",
    "plt.ylabel(\"Accuracy\")\n",
    "plt.legend(title=\"Technique\", bbox_to_anchor=(1.01, 1), loc=\"upper left\", \n",
    "           fontsize='x-small', title_fontsize='small', borderaxespad=0,\n",
    "           labelspacing=0.3, handlelength=1.5)\n",
    "plt.tight_layout()\n",
    "plt.show()"
   ]
  },
  {
   "cell_type": "code",
   "execution_count": null,
   "metadata": {},
   "outputs": [],
   "source": [
    "# 2) Variations Within One Technique (Weight decay learning rate search)\n",
    "#! When we vary within one technique, we can use the same color for all lines\n",
    "#! but we will vary both the alpha (opacity) and linestyle to distinguish them\n",
    "base_tech = \"Weight decay\"\n",
    "base_color = tech_colors[base_tech]  # e.g. \"#1f77b4\"\n",
    "n_colors = 4\n",
    "\n",
    "# Generate alpha values from 1.0 down to 0.25, these determine opacity\n",
    "alphas = np.linspace(1.0, 0.5, n_colors)\n",
    "line_styles = ['-', '--', '-.', ':'] #! look up more line styles in matplotlib if you need more\n",
    "\n",
    "plt.figure(figsize=(8, 5))\n",
    "for idx, (alpha, ls) in enumerate(zip(alphas, line_styles)):\n",
    "    lr = 1e-3 * (idx + 1)\n",
    "    y = np.sin(2 * np.pi * x * (1 + 0.2 * idx)) + np.random.normal(scale=0.05, size=x.shape)\n",
    "    plt.plot(x, y,\n",
    "             label=f\"{base_tech} lr={lr:.0e}\",\n",
    "             color=base_color,\n",
    "             alpha=alpha,\n",
    "             linestyle=ls,\n",
    "             linewidth=2)\n",
    "\n",
    "plt.title(f\"{base_tech} Variations (alpha mapping)\")\n",
    "plt.xlabel(\"Epoch\")\n",
    "plt.ylabel(\"Accuracy\")\n",
    "plt.legend(title=\"Variation\", bbox_to_anchor=(1.01, 1), loc=\"upper left\", \n",
    "           fontsize='x-small', title_fontsize='small', borderaxespad=0,\n",
    "           labelspacing=0.3, handlelength=1.5)\n",
    "plt.tight_layout()\n",
    "plt.show()"
   ]
  },
  {
   "cell_type": "code",
   "execution_count": null,
   "metadata": {},
   "outputs": [],
   "source": [
    "# 3) Panel of Plots with Single Shared Legend on Right\n",
    "n_panels = 3\n",
    "fig, axes = plt.subplots(1, n_panels, figsize=(15, 4), sharex=True, sharey=True)\n",
    "\n",
    "for idx, ax in enumerate(axes):\n",
    "    amplitude = 0.5 + 0.5 * idx\n",
    "    for tech, color in tech_colors.items():\n",
    "        y = amplitude * np.sin(2 * np.pi * x * (1 + 0.2 * np.random.rand())) \\\n",
    "            + np.random.normal(scale=0.1 * (idx + 1), size=x.shape)\n",
    "        ax.plot(x, y, label=tech, color=color, linewidth=1.5)\n",
    "    ax.set_title(f\"Panel {idx+1}\")\n",
    "    ax.set_xlabel(\"Epoch\")\n",
    "    ax.set_ylabel(\"Accuracy\")\n",
    "\n",
    "handles, labels = axes[0].get_legend_handles_labels()\n",
    "fig.legend(handles, labels, title=\"Technique\", loc=\"center right\",\n",
    "           bbox_to_anchor=(1.15, 0.5), ncol=1)\n",
    "\n",
    "plt.tight_layout(rect=[0, 0, 0.9, 1])\n",
    "plt.show()"
   ]
  },
  {
   "cell_type": "code",
   "execution_count": null,
   "metadata": {},
   "outputs": [],
   "source": [
    "# Print the final tech_colors mapping for reference\n",
    "print(\"Final color mapping:\")\n",
    "for tech, color in tech_colors.items():\n",
    "    print(f\"  {tech}: {color}\")"
   ]
  }
 ],
 "metadata": {
  "kernelspec": {
   "display_name": "Python 3 (ipykernel)",
   "language": "python",
   "name": "python3"
  }
 },
 "nbformat": 4,
 "nbformat_minor": 2
}
